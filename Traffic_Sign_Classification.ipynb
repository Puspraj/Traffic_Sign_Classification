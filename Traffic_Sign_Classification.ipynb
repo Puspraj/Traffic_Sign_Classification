{
 "cells": [
  {
   "cell_type": "code",
   "execution_count": 12,
   "id": "developed-patient",
   "metadata": {},
   "outputs": [],
   "source": [
    "import tensorflow as tf\n",
    "from tensorflow import keras\n",
    "from keras.preprocessing.image import ImageDataGenerator\n",
    "from keras.preprocessing import image\n",
    "import matplotlib.pyplot as plt"
   ]
  },
  {
   "cell_type": "code",
   "execution_count": 2,
   "id": "portuguese-ethics",
   "metadata": {},
   "outputs": [],
   "source": [
    "train=ImageDataGenerator(featurewise_center=True,\n",
    "                        featurewise_std_normalization=True)"
   ]
  },
  {
   "cell_type": "code",
   "execution_count": 3,
   "id": "invalid-wisdom",
   "metadata": {},
   "outputs": [],
   "source": [
    "train=ImageDataGenerator(1.0/255)\n",
    "test=ImageDataGenerator(1.0/255)"
   ]
  },
  {
   "cell_type": "code",
   "execution_count": 4,
   "id": "dynamic-creation",
   "metadata": {},
   "outputs": [
    {
     "name": "stdout",
     "output_type": "stream",
     "text": [
      "Found 104730 images belonging to 43 classes.\n"
     ]
    }
   ],
   "source": [
    "train_data=train.flow_from_directory('Traffic_Sign/Train/',\n",
    "                                    target_size=(224,224),\n",
    "                                    color_mode='rgb',\n",
    "                                    batch_size=16,\n",
    "                                    class_mode='categorical')"
   ]
  },
  {
   "cell_type": "code",
   "execution_count": 5,
   "id": "executed-vertex",
   "metadata": {},
   "outputs": [
    {
     "name": "stdout",
     "output_type": "stream",
     "text": [
      "Found 23793 images belonging to 43 classes.\n"
     ]
    }
   ],
   "source": [
    "test_data=test.flow_from_directory('Traffic_Sign/Test/',\n",
    "                                  target_size=(224,224),\n",
    "                                  color_mode='rgb',\n",
    "                                  batch_size=16,\n",
    "                                  class_mode='categorical')"
   ]
  },
  {
   "cell_type": "code",
   "execution_count": 6,
   "id": "knowing-variation",
   "metadata": {},
   "outputs": [],
   "source": [
    "model=keras.Sequential([\n",
    "    keras.layers.Conv2D(16, (2,2), activation='relu', input_shape=(224,224,3)),\n",
    "    keras.layers.MaxPool2D(2,2),\n",
    "    \n",
    "    keras.layers.Conv2D(32, (2,2), activation='relu'),\n",
    "    keras.layers.MaxPool2D(2,2),\n",
    "    \n",
    "    keras.layers.Conv2D(64, (2,2), activation='relu'),\n",
    "    keras.layers.MaxPool2D(2,2),\n",
    "    \n",
    "    keras.layers.Conv2D(128, (2,2), activation='relu'),\n",
    "    keras.layers.MaxPool2D(2,2),\n",
    "    \n",
    "    keras.layers.Flatten(),\n",
    "    keras.layers.Dense(512, activation='relu'),\n",
    "    keras.layers.Dense(43, activation='softmax')\n",
    "])"
   ]
  },
  {
   "cell_type": "code",
   "execution_count": 7,
   "id": "jewish-sodium",
   "metadata": {},
   "outputs": [
    {
     "name": "stdout",
     "output_type": "stream",
     "text": [
      "Model: \"sequential\"\n",
      "_________________________________________________________________\n",
      "Layer (type)                 Output Shape              Param #   \n",
      "=================================================================\n",
      "conv2d (Conv2D)              (None, 223, 223, 16)      208       \n",
      "_________________________________________________________________\n",
      "max_pooling2d (MaxPooling2D) (None, 111, 111, 16)      0         \n",
      "_________________________________________________________________\n",
      "conv2d_1 (Conv2D)            (None, 110, 110, 32)      2080      \n",
      "_________________________________________________________________\n",
      "max_pooling2d_1 (MaxPooling2 (None, 55, 55, 32)        0         \n",
      "_________________________________________________________________\n",
      "conv2d_2 (Conv2D)            (None, 54, 54, 64)        8256      \n",
      "_________________________________________________________________\n",
      "max_pooling2d_2 (MaxPooling2 (None, 27, 27, 64)        0         \n",
      "_________________________________________________________________\n",
      "conv2d_3 (Conv2D)            (None, 26, 26, 128)       32896     \n",
      "_________________________________________________________________\n",
      "max_pooling2d_3 (MaxPooling2 (None, 13, 13, 128)       0         \n",
      "_________________________________________________________________\n",
      "flatten (Flatten)            (None, 21632)             0         \n",
      "_________________________________________________________________\n",
      "dense (Dense)                (None, 512)               11076096  \n",
      "_________________________________________________________________\n",
      "dense_1 (Dense)              (None, 43)                22059     \n",
      "=================================================================\n",
      "Total params: 11,141,595\n",
      "Trainable params: 11,141,595\n",
      "Non-trainable params: 0\n",
      "_________________________________________________________________\n"
     ]
    }
   ],
   "source": [
    "model.summary()"
   ]
  },
  {
   "cell_type": "code",
   "execution_count": 8,
   "id": "orange-traffic",
   "metadata": {},
   "outputs": [],
   "source": [
    "model.compile(optimizer='adam',\n",
    "             loss=keras.losses.CategoricalCrossentropy(),\n",
    "             metrics=['accuracy'])"
   ]
  },
  {
   "cell_type": "code",
   "execution_count": 13,
   "id": "classical-helicopter",
   "metadata": {},
   "outputs": [
    {
     "name": "stderr",
     "output_type": "stream",
     "text": [
      "C:\\Users\\hp\\.conda\\envs\\Tensor\\lib\\site-packages\\keras_preprocessing\\image\\image_data_generator.py:716: UserWarning: This ImageDataGenerator specifies `featurewise_center`, but it hasn't been fit on any training data. Fit it first by calling `.fit(numpy_data)`.\n",
      "  warnings.warn('This ImageDataGenerator specifies '\n"
     ]
    },
    {
     "name": "stdout",
     "output_type": "stream",
     "text": [
      "Epoch 1/30\n",
      "410/409 [==============================] - 541s 1s/step - loss: 0.3217 - accuracy: 0.9027 - val_loss: 0.4605 - val_accuracy: 0.8790\n",
      "Epoch 2/30\n",
      "410/409 [==============================] - 388s 947ms/step - loss: 0.3277 - accuracy: 0.9002 - val_loss: 0.2777 - val_accuracy: 0.9207\n",
      "Epoch 3/30\n",
      "410/409 [==============================] - 362s 883ms/step - loss: 0.3075 - accuracy: 0.9041 - val_loss: 0.2305 - val_accuracy: 0.9288\n",
      "Epoch 4/30\n",
      "410/409 [==============================] - 361s 880ms/step - loss: 0.3329 - accuracy: 0.9044 - val_loss: 0.3796 - val_accuracy: 0.8858\n",
      "Epoch 5/30\n",
      "410/409 [==============================] - 338s 825ms/step - loss: 0.3104 - accuracy: 0.9073 - val_loss: 0.2955 - val_accuracy: 0.9160\n",
      "Epoch 6/30\n",
      "410/409 [==============================] - 418s 1s/step - loss: 0.3587 - accuracy: 0.9032 - val_loss: 0.2403 - val_accuracy: 0.9247\n",
      "Epoch 7/30\n",
      "410/409 [==============================] - 357s 871ms/step - loss: 0.2830 - accuracy: 0.9171 - val_loss: 0.2768 - val_accuracy: 0.9308\n",
      "Epoch 8/30\n",
      "410/409 [==============================] - 427s 1s/step - loss: 0.2914 - accuracy: 0.9113 - val_loss: 0.3752 - val_accuracy: 0.8952\n",
      "Epoch 9/30\n",
      "410/409 [==============================] - 426s 1s/step - loss: 0.3179 - accuracy: 0.9081 - val_loss: 0.2043 - val_accuracy: 0.9429\n",
      "Epoch 10/30\n",
      "410/409 [==============================] - 374s 913ms/step - loss: 0.2586 - accuracy: 0.9288 - val_loss: 0.3841 - val_accuracy: 0.8837\n",
      "Epoch 11/30\n",
      "410/409 [==============================] - 373s 910ms/step - loss: 0.2664 - accuracy: 0.9159 - val_loss: 0.1942 - val_accuracy: 0.9462\n",
      "Epoch 12/30\n",
      "410/409 [==============================] - 363s 885ms/step - loss: 0.2732 - accuracy: 0.9181 - val_loss: 0.2182 - val_accuracy: 0.9402\n",
      "Epoch 13/30\n",
      "410/409 [==============================] - 360s 878ms/step - loss: 0.2816 - accuracy: 0.9212 - val_loss: 0.2921 - val_accuracy: 0.9147\n",
      "Epoch 14/30\n",
      "410/409 [==============================] - 351s 857ms/step - loss: 0.2558 - accuracy: 0.9226 - val_loss: 0.1520 - val_accuracy: 0.9523\n",
      "Epoch 15/30\n",
      "410/409 [==============================] - 345s 842ms/step - loss: 0.2208 - accuracy: 0.9341 - val_loss: 0.2821 - val_accuracy: 0.9308\n",
      "Epoch 16/30\n",
      "410/409 [==============================] - 332s 809ms/step - loss: 0.2414 - accuracy: 0.9288 - val_loss: 0.2022 - val_accuracy: 0.9422\n",
      "Epoch 17/30\n",
      "410/409 [==============================] - 330s 804ms/step - loss: 0.2460 - accuracy: 0.9308 - val_loss: 0.1920 - val_accuracy: 0.9483\n",
      "Epoch 18/30\n",
      "410/409 [==============================] - 327s 797ms/step - loss: 0.2459 - accuracy: 0.9277 - val_loss: 0.2321 - val_accuracy: 0.9247\n",
      "Epoch 19/30\n",
      "410/409 [==============================] - 339s 828ms/step - loss: 0.2260 - accuracy: 0.9363 - val_loss: 0.2017 - val_accuracy: 0.9382\n",
      "Epoch 20/30\n",
      "410/409 [==============================] - 330s 804ms/step - loss: 0.2500 - accuracy: 0.9265 - val_loss: 0.4628 - val_accuracy: 0.8871\n",
      "Epoch 21/30\n",
      "410/409 [==============================] - 335s 818ms/step - loss: 0.2090 - accuracy: 0.9401 - val_loss: 0.1993 - val_accuracy: 0.9462\n",
      "Epoch 22/30\n",
      "410/409 [==============================] - 1982s 5s/step - loss: 0.2673 - accuracy: 0.9280 - val_loss: 0.3259 - val_accuracy: 0.9073\n",
      "Epoch 23/30\n",
      "410/409 [==============================] - 359s 875ms/step - loss: 0.2040 - accuracy: 0.9394 - val_loss: 0.1160 - val_accuracy: 0.9677\n",
      "Epoch 24/30\n",
      "410/409 [==============================] - 328s 800ms/step - loss: 0.2150 - accuracy: 0.9433 - val_loss: 0.2035 - val_accuracy: 0.9449\n",
      "Epoch 25/30\n",
      "410/409 [==============================] - 320s 780ms/step - loss: 0.2179 - accuracy: 0.9386 - val_loss: 0.1675 - val_accuracy: 0.9483\n",
      "Epoch 26/30\n",
      "410/409 [==============================] - 329s 802ms/step - loss: 0.2068 - accuracy: 0.9410 - val_loss: 0.2347 - val_accuracy: 0.9375\n",
      "Epoch 27/30\n",
      "410/409 [==============================] - 326s 794ms/step - loss: 0.2049 - accuracy: 0.9410 - val_loss: 0.2370 - val_accuracy: 0.9362\n",
      "Epoch 28/30\n",
      "410/409 [==============================] - 360s 878ms/step - loss: 0.2081 - accuracy: 0.9415 - val_loss: 0.1790 - val_accuracy: 0.9523\n",
      "Epoch 29/30\n",
      "410/409 [==============================] - 315s 767ms/step - loss: 0.2062 - accuracy: 0.9401 - val_loss: 0.1080 - val_accuracy: 0.9657\n",
      "Epoch 30/30\n",
      "410/409 [==============================] - 306s 747ms/step - loss: 0.1851 - accuracy: 0.9441 - val_loss: 0.2178 - val_accuracy: 0.9456\n"
     ]
    }
   ],
   "source": [
    "Model=model.fit(train_data,\n",
    "          epochs=30,\n",
    "         validation_data=test_data,\n",
    "         steps_per_epoch=len(train_data)/16,\n",
    "        validation_steps=len(test_data)/16)"
   ]
  },
  {
   "cell_type": "code",
   "execution_count": 17,
   "id": "abstract-visibility",
   "metadata": {},
   "outputs": [
    {
     "data": {
      "image/png": "[encoded data removed]",
      "text/plain": [
       "<Figure size 432x288 with 1 Axes>"
      ]
     },
     "metadata": {
      "needs_background": "light"
     },
     "output_type": "display_data"
    },
    {
     "data": {
      "text/plain": [
       "<Figure size 432x288 with 0 Axes>"
      ]
     },
     "metadata": {},
     "output_type": "display_data"
    }
   ],
   "source": [
    "plt.plot(Model.history['loss'], label='train loss')\n",
    "plt.plot(Model.history['val_loss'], label='val loss')\n",
    "plt.legend()\n",
    "plt.show()\n",
    "plt.savefig('LossVal_loss')"
   ]
  },
  {
   "cell_type": "code",
   "execution_count": 23,
   "id": "phantom-listing",
   "metadata": {},
   "outputs": [
    {
     "data": {
      "image/png": "[encoded data removed]",
      "text/plain": [
       "<Figure size 432x288 with 1 Axes>"
      ]
     },
     "metadata": {
      "needs_background": "light"
     },
     "output_type": "display_data"
    },
    {
     "data": {
      "text/plain": [
       "<Figure size 432x288 with 0 Axes>"
      ]
     },
     "metadata": {},
     "output_type": "display_data"
    }
   ],
   "source": [
    "plt.plot(Model.history['accuracy'], label='train_accu')\n",
    "plt.plot(Model.history['accuracy'], label='val_accu')\n",
    "plt.legend()\n",
    "plt.show()\n",
    "plt.savefig('AccuVal_accu')"
   ]
  },
  {
   "cell_type": "code",
   "execution_count": 25,
   "id": "confident-cleaner",
   "metadata": {},
   "outputs": [],
   "source": [
    "model.save('Traffic_sign.h5')"
   ]
  },
  {
   "cell_type": "code",
   "execution_count": null,
   "id": "grave-tennessee",
   "metadata": {},
   "outputs": [],
   "source": []
  }
 ],
 "metadata": {
  "kernelspec": {
   "display_name": "Python 3",
   "language": "python",
   "name": "python3"
  },
  "language_info": {
   "codemirror_mode": {
    "name": "ipython",
    "version": 3
   },
   "file_extension": ".py",
   "mimetype": "text/x-python",
   "name": "python",
   "nbconvert_exporter": "python",
   "pygments_lexer": "ipython3",
   "version": "3.7.9"
  }
 },
 "nbformat": 4,
 "nbformat_minor": 5
}
